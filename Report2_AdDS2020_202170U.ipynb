{
  "nbformat": 4,
  "nbformat_minor": 0,
  "metadata": {
    "colab": {
      "name": "Report2_AdDS2020_202170U.ipynb",
      "provenance": [],
      "collapsed_sections": [],
      "include_colab_link": true
    },
    "kernelspec": {
      "name": "python3",
      "display_name": "Python 3"
    }
  },
  "cells": [
    {
      "cell_type": "markdown",
      "metadata": {
        "id": "view-in-github",
        "colab_type": "text"
      },
      "source": [
        "<a href=\"https://colab.research.google.com/github/Usuyuki/Report2_AdDS2020/blob/main/Report2_AdDS2020_202170U.ipynb\" target=\"_parent\"><img src=\"https://colab.research.google.com/assets/colab-badge.svg\" alt=\"Open In Colab\"/></a>"
      ]
    },
    {
      "cell_type": "markdown",
      "metadata": {
        "id": "fra32_SkaGSL"
      },
      "source": [
        "# Report 2\n",
        "\n",
        "二重線の中を記入してください  \n",
        "\n",
        "\n",
        "---\n",
        "---\n",
        "\n",
        "\n",
        "\n",
        "氏名:       小畑尚史\n",
        "\n",
        "学籍番号:    202170U                  \n",
        "\n",
        "選んだ問題   \n",
        "問題1:    \n",
        "問題2: \n",
        "\n",
        "備考・コメント:  \n",
        "  \n",
        "\n",
        "\n",
        "---\n",
        "---\n",
        "\n",
        "\n",
        "(教員記入欄)\n",
        "\n",
        "得点:   /   \n"
      ]
    },
    {
      "cell_type": "markdown",
      "metadata": {
        "id": "Mdi2R9xeIl1r"
      },
      "source": [
        ""
      ]
    },
    {
      "cell_type": "markdown",
      "metadata": {
        "id": "i-X943PuaEvy"
      },
      "source": [
        "## 注意書き(必読!!)"
      ]
    },
    {
      "cell_type": "markdown",
      "metadata": {
        "id": "m_pwUrd_aOhr"
      },
      "source": [
        "\n",
        "\n",
        "> **まずやること**\n",
        "\n",
        "コピーを作成し、ファイル名はReport2_AdDS2020_学籍番号.ipynbとしてください。  \n",
        "例: Report2_AdDS2020_201234X.ipynb\n",
        "\n",
        "こまめにCtrl+Sで明示的にGoogle Driveに保存しましょう。  \n",
        "間違って編集して上書き保存した場合でも、  \n",
        "Google Drive上のファイルで右クリック→[版を管理]から復元可能な場合があります。\n",
        "\n",
        "\n",
        ">**問題と採点について**\n",
        "\n",
        "各問題には、レベルがいくつか(ABC)が設定されています。  \n",
        "１問ごとに、Bを選択すると+2.5点,Cを選択すると+5点、最大点が上がります。  \n",
        "レポートから選択したレベルを推察しますが、  \n",
        "冒頭の欄でご自身の選んだ問題レベルを明示的に書いて頂けると助かります。\n",
        "\n",
        "採点では**プログラム自体の完成度や見栄えなどよりも  \n",
        "「考え方や疑問がきちんと言語化できているか,その考え方を実装出来ているか」を重視します**。\n",
        "\n",
        "たとえ完璧ではないコードだとしても、やりたい作業がきちんと言語化されていて、  \n",
        "出来なかった場合でもなぜうまく行かないかの考察などが記述欄に書いてあれば、  \n",
        "**全く説明のない完璧なコードだけ書かれたレポートよりも高得点になることもあり得ます**  \n",
        "皆さんの試行錯誤の跡が見られるよう、コメントやコードはなるべく消さずに提出してください。  \n",
        "詳しい採点基準は各問題に記載があります。  \n",
        "\n",
        "第1回のレポートの総評にある優れた例を参考に記述欄に記してください。\n",
        "\n",
        ">**締め切りと注意事項**\n",
        "\n",
        "締切は日本時間の12月いっぱいとします。  \n",
        "早めに着手してのんびりした年末にしましょう。\n",
        "\n",
        "〆切を超過するやむを得ない理由があれば(なるべく事前に)知らせてください。  \n",
        "またGoogle Driveにバックアップが取られる仕様上「データが消えました」という理由は認められません。\n",
        "\n",
        "以下のものに対しては、評価の対象外となります。  \n",
        "* 理由なく〆切を超過して提出されたもの\n",
        "* 盗用が疑われるもの\n",
        "\n",
        "とくに後者は、この授業だけでなく今期の全単位の取り消しや  \n",
        "懲戒となる場合がありますので注意してください。\n",
        "\n",
        "\n",
        ">**提出方法について**\n",
        "\n",
        "以下の２通りのいずれかでお願いします。\n",
        "\n",
        "1. (**推奨**) ノートブックの共有をオンにして、共有リンクを送る  \n",
        "共有方法は、ノートブックの右上の共有ボタンを押して、[リンクを取得]から共有設定を[リンクを知っている人全員]に変更し共有リンク(URL)を取得する。  \n",
        "(Gmailにログインしていないブラウザなどでそのリンクが開けるかご自身でもチェックしてください)\n",
        "\n",
        "2. ipynb形式のノートブックを保存して添付する。[ファイル]→[.ipynbをダウンロード]\n",
        " \n",
        "\n",
        "提出先は次のいずれかでお願いします\n",
        "\n",
        "* Teamsの私宛のチャット  \n",
        "* 私の授業用アカウント syoshida.cc@gmail.com (必ず大学のメール(@ccドメイン)から送ってください)  \n",
        "* CL(連絡・相談)やその他の手段\n",
        "\n",
        "レポートを受け取った場合、遅くとも2日以内に確認の返信を必ずお送りします。  \n",
        "受領連絡がない場合は、再度送ってください。\n",
        "\n",
        "> **レポートの著作権に関して**\n",
        "\n",
        "提出していただいたレポートのうち優れたものをモデルケースとして、  \n",
        "他の受講者へのフィードバックや来年度以降の授業などで使用させていただけたらと思います。\n",
        "\n",
        "* 「記名での公表可」\n",
        "* 「匿名での公表可」\n",
        "* 「公表不可」\n",
        "\n",
        "など、希望があれば冒頭の備考欄に記述してください。  \n",
        "備考欄に記載がない場合「匿名での公表」には、ご了承頂いたものと見なします。  \n",
        "\n",
        "---\n",
        "\n"
      ]
    },
    {
      "cell_type": "markdown",
      "metadata": {
        "id": "dqWC5H_1FCjL"
      },
      "source": [
        "## 問題1. 回帰分析"
      ]
    },
    {
      "cell_type": "markdown",
      "metadata": {
        "id": "yh-Gpz72Khuw"
      },
      "source": [
        "以下のような電流(x,単位A)と電圧(y,単位V)の測定データがある"
      ]
    },
    {
      "cell_type": "code",
      "metadata": {
        "id": "GMxDq2vJKubR"
      },
      "source": [
        "x = [1.0, 2.0, 3.0, 4.0, 5.0, 6.0, 7.0, 8.0, 9.0, 10.0] \n",
        "y = [0.143, 0.278, 0.413, 0.548, 0.683, 0.818, 0.953, 1.088, 1.223, 1.358] "
      ],
      "execution_count": null,
      "outputs": []
    },
    {
      "cell_type": "markdown",
      "metadata": {
        "id": "wUcBe05yUA_Z"
      },
      "source": [
        "横軸を電流I,縦軸を電圧Vの図にすると"
      ]
    },
    {
      "cell_type": "code",
      "metadata": {
        "id": "GTHgHBC1UCLc",
        "colab": {
          "base_uri": "https://localhost:8080/",
          "height": 280
        },
        "outputId": "eaee2d8e-a23b-405a-f978-eceae2077dd7"
      },
      "source": [
        "import matplotlib.pyplot as plt\n",
        "fig = plt.figure(figsize=(10,4))\n",
        "ax = fig.add_subplot(111)\n",
        "ax.set_xlabel(\"I\"); ax.set_ylabel(\"V\")\n",
        "ax.scatter(x, y, facecolor=\"none\", edgecolor=\"b\", s=50)\n",
        "plt.show()\n",
        "plt.close()"
      ],
      "execution_count": null,
      "outputs": [
        {
          "output_type": "display_data",
          "data": {
            "image/png": "[encoded data removed]",
            "text/plain": [
              "<Figure size 720x288 with 1 Axes>"
            ]
          },
          "metadata": {
            "tags": [],
            "needs_background": "light"
          }
        }
      ]
    },
    {
      "cell_type": "markdown",
      "metadata": {
        "id": "LGHHvMmtUMo5"
      },
      "source": [
        "こんな感じ。"
      ]
    },
    {
      "cell_type": "markdown",
      "metadata": {
        "id": "Wy92fyndLqeg"
      },
      "source": [
        "中学校で習ったオームの法則 $V = IR$ を用いて以下の問に答えよ  \n",
        "(傾きが電気抵抗Rに相当している)  \n"
      ]
    },
    {
      "cell_type": "markdown",
      "metadata": {
        "id": "6KgghyxKFEzs"
      },
      "source": [
        "\n",
        "**A問題**  \n",
        "ノート6章を参考に、numpyの機能を用いて  \n",
        "$f(x)=ax+b$という直線で上のデータをフィット(つまり傾き$a$と切片$b$を\"最適化\")し、  \n",
        "最適な$a,b$を答えよ.  \n",
        "また、その時の$y=ax+b$の直線を上の図に加えてプロットせよ  \n",
        "\n",
        "**B問題**   \n",
        "numpyなどのライブラリは使わずに、  \n",
        "適当な初期値$a=1.0,b=0.1$からスタートして  \n",
        "$a,b$を更新しながら二乗誤差を最小化する最適な$(a,b)$の組を見つけ、  \n",
        "A問題のライブラリの与える答えと一致することを確認せよ。  \n",
        "\n",
        "**C問題**  \n",
        "ノート7章を参考に  \n",
        "* 学習の過程でのパラメータ空間(二次元平面)での$(a,b)$の振る舞い\n",
        "* 誤差関数の振る舞い\n",
        "\n",
        "など、最適化が進んでいく過程を、ノートブック内で動画として描画せよ。  \n",
        "\n",
        "\n",
        "\n",
        "\n"
      ]
    },
    {
      "cell_type": "markdown",
      "metadata": {
        "id": "EzvMp0ffO0yh"
      },
      "source": [
        "**注意とヒント**\n",
        "\n",
        "Aのヒント: 授業で用いたノートブックから類推してあてはめれば回答可能です。\n",
        "\n",
        "Bのヒント: 今の場合、最小化すべき値(目的関数)は、  \n",
        "データと直線モデル($f(x)=ax+b$)との二乗誤差の和、$\\chi^2 = \\sum^{10}_{i=1} (y_i - (ax_i+b))^2$である。\n",
        "\n",
        "一つの方針は、\n",
        "$\\chi^2$を$a$と$b$について微分した表式$\\frac{\\partial \\chi^2}{\\partial a}$,$\\frac{\\partial \\chi^2}{\\partial b}$をそれぞれ求めて、  \n",
        "その値を返す関数を作成し、勾配を使って更新していく(勾配法以外の方法でも良い)。  \n",
        "\n",
        "最終結果(最適解)を表示したりするためには、更新の際\"ベストな値\"が得られたら逐次それらを記録していけば良い。\n",
        "\n",
        "Cのヒント: 勾配法の場合、最適化が進む過程はおそらく...  \n",
        "初期に大きくaとbが修正されながら、あとは時折わずかな変更を受けるはず。  \n",
        "なので、更新の度に毎回スナップショットを取り愚直に描画すると中々計算が終わらない。  \n",
        "学習の初期をある程度真面目に描画して、後半の方は大幅に間引いてplotするのがオススメ。\n",
        "\n",
        "\n",
        "仮に乱数を使用する場合は、他の人が動かしても結果が再現されるように、  \n",
        "初めにSeedを適当な値に固定すること。**再現性が無い議論になっているものは減点**とする。\n",
        "\n",
        "> B,Cに関する補足:\n",
        "\n",
        "今の問題で、パラメータ空間$(a,b)$上での二乗誤差(の常用対数をとったもの)の振る舞いは下図の通りで、  \n",
        "最適解の周りで非常にsteepになっている(a,bの値は、答えがわかってしまうので図ではあえて隠している)。  \n",
        "\n",
        "この絵のように約419万点(2048×2048のメッシュ)での二乗誤差の値をプロットしても、  \n",
        "まだまだメッシュが荒く、実は\"最適解そのもの\"は描画出来ていない.  \n",
        "最適化の方法にもよるが、$\\log_{10}\\chi^2$は-20とか-30程度(つまり$\\chi^2 \\approx 0$)まで下げられる。\n",
        "\n",
        "この図やC問題の結果から、  \n",
        "今のような「1次元のデータがたった10点程度の単純な直線を使った回帰」ですら  \n",
        "二乗誤差の振る舞いは非自明で、局所解に時折捕まることが視覚的にもわかる。  \n",
        "(というと、最適化問題を解く難しさ・面白さが伝わるだろうか？)\n",
        "\n",
        "<img src=\"https://drive.google.com/uc?export=view&id=152U_BtYuEkRGBCiTrgbPUJ6RDowf4ttR\" width = 80%>\n"
      ]
    },
    {
      "cell_type": "markdown",
      "metadata": {
        "id": "o3tVvRE6PY0I"
      },
      "source": [
        "\n",
        "---\n",
        "\n",
        "\n",
        "**解答欄はこちら**\n",
        "\n",
        "\n",
        "\n",
        "\n",
        "\n",
        "\n",
        "・コード欄"
      ]
    },
    {
      "cell_type": "code",
      "metadata": {
        "id": "yAL1cmE5Vv13"
      },
      "source": [
        ""
      ],
      "execution_count": null,
      "outputs": []
    },
    {
      "cell_type": "markdown",
      "metadata": {
        "id": "l0saw_76VwE6"
      },
      "source": [
        "・記述欄\n",
        "\n",
        "*ココに説明を記述*\n",
        "\n"
      ]
    },
    {
      "cell_type": "markdown",
      "metadata": {
        "id": "ynnmkD5OpELf"
      },
      "source": [
        "\n",
        "## 問題2. 乱数を用いた計算"
      ]
    },
    {
      "cell_type": "markdown",
      "metadata": {
        "id": "QJ5ckMCjeIml"
      },
      "source": [
        "**A問題**  \n",
        "ノート9章を参考に、以下のジャンケン関数を作成せよ。\n",
        "* 20%の確率でグー, 50%の確率でチョキ, 30％の確率でパーを出す\n",
        "* 60%の確率でグー, 10%の確率でチョキ, 30％の確率でパーを出す\n",
        "\n",
        "**B問題**  \n",
        "A問題で作成したジャンケン関数同士で勝負させて、勝率を記録し、  \n",
        "勝負の回数を増やしていくにつれて(10回, 100回, 1000回, 10000回,...)  \n",
        "勝率がどのように変動するか考察せよ。  \n",
        "\n",
        "\n",
        "\n",
        "\n"
      ]
    },
    {
      "cell_type": "markdown",
      "metadata": {
        "id": "PoDFM-v2gMxv"
      },
      "source": [
        "**C問題**  \n",
        "あなたは、後述のようなある関数$f(x)$の最小値を見つけたい。  \n",
        "$x = -4.0$からスタートして、以下の手順のような    \n",
        "ランダムウォークを活用した探索方法を実装し、最適な$x$の値を求めよ\n",
        "\n",
        "1. 現在いる点$x_{old}$から$\\sigma=0.1$の正規乱数でランダムに$x_{c}$(cはcandidateの略)を生成する\n",
        "2. ２つの点$x_{old},x_c$での値$f(x_{old}),f(x_c)$を比べ、以下のルールで候補点を\"採択\"または\"棄却\"する\n",
        "    * $f(x_{old}) \\geq f(x_{c})$なら必ず採択($x_{old}$に$x_c$を代入)する\n",
        "    * $f(x_{old}) < f(x_{c})$の場合、確率$r=\\exp( - (f(x_{c}) - f(x_{old})) )$で採択する\n",
        "    * 採択しない(棄却する)場合は、その場にとどまる \n",
        "3. 上記のプロセスを繰り返し、最も小さな$f(x)$を与える$x$の値を探索する\n",
        "\n",
        "なお、以下では便宜上関数形が与えられているが、  \n",
        "この関数の式は\"分からない\"と仮定した上で解くこととする.  \n",
        "(つまり、微分形を解析的に求めて最小値を与える$x$を求めるのはナシ)\n",
        "\n",
        "余力があれば、勾配法(とくに、学習率を固定する方式)での最適化も試して比較してみよう。  \n",
        "奇跡的に良い学習率を見つけないと、中々最適解が得られないはず"
      ]
    },
    {
      "cell_type": "code",
      "metadata": {
        "colab": {
          "base_uri": "https://localhost:8080/",
          "height": 279
        },
        "id": "ElSEUhdimZ-J",
        "outputId": "48c8d83d-f00e-4f5c-f40e-9111e849a854"
      },
      "source": [
        "import numpy as np\n",
        "import matplotlib.pyplot as plt\n",
        "\n",
        "def f_blackbox(x): #xを指定したときに初めてf(x)の値がわかると想定\n",
        "    if abs(x)>10.0: #便宜的に、定義域外で大きな値を持つ関数とする\n",
        "        return  np.exp(100)\n",
        "    else:\n",
        "        return -0.5 * np.sin(x) - 0.2 * x \n",
        "\n",
        "xplot = np.arange(-10,10,1.e-3)\n",
        "yplot = -0.5 * np.sin(xplot) - 0.2 * xplot  #関数の具体形は本当は分からない（ブラックボックス)と仮定する\n",
        "\n",
        "fig = plt.figure(figsize=(8,4))\n",
        "ax = fig.add_subplot(111)\n",
        "ax.set_xlabel(\"x\"); ax.set_ylabel(\"y\")\n",
        "ax.plot(xplot,yplot,color=\"red\",label=\"BlackBox function\",linestyle=\"dotted\")\n",
        "ax.scatter(-4,f_blackbox(-4),marker=\"o\",color=\"k\")\n",
        "ax.legend(loc=\"upper right\")\n",
        "plt.show()\n",
        "plt.close()"
      ],
      "execution_count": null,
      "outputs": [
        {
          "output_type": "display_data",
          "data": {
            "image/png": "[encoded data removed]",
            "text/plain": [
              "<Figure size 576x288 with 1 Axes>"
            ]
          },
          "metadata": {
            "tags": [],
            "needs_background": "light"
          }
        }
      ]
    },
    {
      "cell_type": "markdown",
      "metadata": {
        "id": "OFg3BLIZmGKU"
      },
      "source": [
        "**注意とヒント**\n",
        "\n",
        "他の人が動かしても結果が再現されるように、  \n",
        "初めにSeedを適当な値に固定すること。  \n",
        "**再現性が無い議論になっているものは減点対象**とする。\n",
        "\n",
        "Aのヒント:  \n",
        "授業で用いたノートブックから類推してあてはめれば回答可能です。\n",
        "\n",
        "Bのヒント:  \n",
        "答えがどうなるかは、場合の数や確率といった数Aの知識から予め予想することができる。\n",
        "\n",
        "\n",
        "Cのヒント:  \n",
        "$x$の定義域は$[-10,10]$とする($|x|>10$で関数の値が$\\infty$になると思えば良い)  \n",
        "\n",
        "単純な勾配法で試して、局所解に捕まる体験を是非してみてほしいので、  \n",
        "求めた値自体が何桁あっているかはあまり気にしません。  \n",
        "\n",
        "上記のような方法を使った更新(実はメトロポリス法という方法になっている)だと、  \n",
        "関数の値を大きくしてしまう方向にも一定の確率で更新するために、局所的な谷から抜け出すことが出来る(かも).  \n",
        "$x$の変化の様子を作画するのも面白いですが、レポートでは必須ではありません(興味がある人はやってみよう)。\n",
        "\n",
        "なおC問題はA・B問題と直接関係がないので、C問題が不安な人はAかBも解答するのがオススメ"
      ]
    },
    {
      "cell_type": "markdown",
      "metadata": {
        "id": "H58tKFhPe6pW"
      },
      "source": [
        "\n",
        "---\n",
        "\n",
        "\n",
        "**解答欄はこちら**\n",
        "\n",
        "\n",
        "\n",
        "\n",
        "\n",
        "\n",
        "・コード欄"
      ]
    },
    {
      "cell_type": "code",
      "metadata": {
        "id": "GnV4knuhJxYW"
      },
      "source": [
        ""
      ],
      "execution_count": null,
      "outputs": []
    },
    {
      "cell_type": "markdown",
      "metadata": {
        "id": "ayyxlGlFijFY"
      },
      "source": [
        "・ 記述欄\n",
        "\n",
        "\n"
      ]
    },
    {
      "cell_type": "markdown",
      "metadata": {
        "id": "Ht2ekcoiilaP"
      },
      "source": [
        "\n",
        "\n",
        "> \n",
        "\n"
      ]
    },
    {
      "cell_type": "markdown",
      "metadata": {
        "id": "uLCI_ksdw41d"
      },
      "source": [
        "## **最終課題の案について**"
      ]
    },
    {
      "cell_type": "markdown",
      "metadata": {
        "id": "7dPm9_7qFJhm"
      },
      "source": [
        "\n",
        "\n",
        "実践データサイエンスの最終課題では、  \n",
        "授業で習ってきたPythonや各種のデータの分析方法、  \n",
        "おまけのノートブックや自身の興味のある内容・手法などを駆使して、  \n",
        "* データを分析して物事の理解を深める\n",
        "* データを使って、意思決定に応用する\n",
        "* 何らかの作業を自動化する\n",
        "\n",
        "といったことを皆さんの自由な発想(+吉田のお手伝い)でやっていただこうかと思っています。\n",
        "\n",
        "以下の例にならって**現時点での大まかなプラン**を記載してください  \n",
        "もちろん途中でのテーマ変更も可能です。  \n",
        "\n",
        "最終課題の提出期になって「何にもやってない」  \n",
        "という悲劇を回避するためにも早めに相談してください。\n"
      ]
    },
    {
      "cell_type": "markdown",
      "metadata": {
        "id": "z4Vfw3d7GX3f"
      },
      "source": [
        "例:   \n",
        ">漫才コンテストの評価は、シニアの審査員の主観に依存するところが大きく、  \n",
        "採点が客観性を欠いているとの指摘もなされている。  \n",
        "そこで、来るお笑いコンテストXXXの開催中にSNSに溢れる声を取得・分析し、  \n",
        "〇〇に基づいた△△の分析により得点を算出することで、  \n",
        "独自の方法で優勝者を決定することを試みる。\n",
        "\n",
        "例の内容は書き方の参考程度にしてください(自然言語処理は結構ムズいので)。  \n",
        "その他の、より具体的な例に関しては、随時[最終課題案]として授業中や資料で紹介します。"
      ]
    },
    {
      "cell_type": "markdown",
      "metadata": {
        "id": "Bq2zXUa8GWw-"
      },
      "source": [
        "**現時点での大まかなプラン**\n",
        "\n",
        "\n",
        "ココに記載(このメッセージは削除してください)\n",
        "\n",
        "\n"
      ]
    },
    {
      "cell_type": "markdown",
      "metadata": {
        "id": "1D9P44Fzm6A6"
      },
      "source": [
        "最終課題について (該当しないものを削除してください!!!):  \n",
        "* 個人でやるつもり\n",
        "* 近い内容の人がいたら一緒にやりたい\n",
        "* グループでやるつもり (名前を書いてください)"
      ]
    }
  ]
}