{
  "nbformat": 4,
  "nbformat_minor": 0,
  "metadata": {
    "colab": {
      "name": "Report2_AdDS2020_202170U.ipynb",
      "provenance": [],
      "collapsed_sections": [],
      "include_colab_link": true
    },
    "kernelspec": {
      "name": "python3",
      "display_name": "Python 3"
    }
  },
  "cells": [
    {
      "cell_type": "markdown",
      "metadata": {
        "id": "view-in-github",
        "colab_type": "text"
      },
      "source": [
        "<a href=\"https://colab.research.google.com/github/Usuyuki/Report2_AdDS2020/blob/main/Report2_AdDS2020_202170U.ipynb\" target=\"_parent\"><img src=\"https://colab.research.google.com/assets/colab-badge.svg\" alt=\"Open In Colab\"/></a>"
      ]
    },
    {
      "cell_type": "markdown",
      "metadata": {
        "id": "fra32_SkaGSL"
      },
      "source": [
        "# Report 2\n",
        "\n",
        "二重線の中を記入してください  \n",
        "\n",
        "\n",
        "---\n",
        "---\n",
        "\n",
        "\n",
        "\n",
        "氏名:       小畑尚史\n",
        "\n",
        "学籍番号:    202170U                  \n",
        "\n",
        "選んだ問題   \n",
        "問題1:    \n",
        "問題2: \n",
        "\n",
        "備考・コメント:  \n",
        "「記名での公表可」<br>\n",
        "  GitHubで管理しました。<br>\n",
        "  現在個人的に学習中のJavaScriptなどと文法が混在して大変でした…「;」無意識につけてエラーになることが多々ありました。\n",
        "\n",
        "\n",
        "---\n",
        "---\n",
        "\n",
        "\n",
        "(教員記入欄)\n",
        "\n",
        "得点:   /   \n"
      ]
    },
    {
      "cell_type": "markdown",
      "metadata": {
        "id": "Mdi2R9xeIl1r"
      },
      "source": [
        ""
      ]
    },
    {
      "cell_type": "markdown",
      "metadata": {
        "id": "i-X943PuaEvy"
      },
      "source": [
        "## 注意書き(必読!!)"
      ]
    },
    {
      "cell_type": "markdown",
      "metadata": {
        "id": "m_pwUrd_aOhr"
      },
      "source": [
        "\n",
        "\n",
        "> **まずやること**\n",
        "\n",
        "コピーを作成し、ファイル名はReport2_AdDS2020_学籍番号.ipynbとしてください。  \n",
        "例: Report2_AdDS2020_201234X.ipynb\n",
        "\n",
        "こまめにCtrl+Sで明示的にGoogle Driveに保存しましょう。  \n",
        "間違って編集して上書き保存した場合でも、  \n",
        "Google Drive上のファイルで右クリック→[版を管理]から復元可能な場合があります。\n",
        "\n",
        "\n",
        ">**問題と採点について**\n",
        "\n",
        "各問題には、レベルがいくつか(ABC)が設定されています。  \n",
        "１問ごとに、Bを選択すると+2.5点,Cを選択すると+5点、最大点が上がります。  \n",
        "レポートから選択したレベルを推察しますが、  \n",
        "冒頭の欄でご自身の選んだ問題レベルを明示的に書いて頂けると助かります。\n",
        "\n",
        "採点では**プログラム自体の完成度や見栄えなどよりも  \n",
        "「考え方や疑問がきちんと言語化できているか,その考え方を実装出来ているか」を重視します**。\n",
        "\n",
        "たとえ完璧ではないコードだとしても、やりたい作業がきちんと言語化されていて、  \n",
        "出来なかった場合でもなぜうまく行かないかの考察などが記述欄に書いてあれば、  \n",
        "**全く説明のない完璧なコードだけ書かれたレポートよりも高得点になることもあり得ます**  \n",
        "皆さんの試行錯誤の跡が見られるよう、コメントやコードはなるべく消さずに提出してください。  \n",
        "詳しい採点基準は各問題に記載があります。  \n",
        "\n",
        "第1回のレポートの総評にある優れた例を参考に記述欄に記してください。\n",
        "\n",
        ">**締め切りと注意事項**\n",
        "\n",
        "締切は日本時間の12月いっぱいとします。  \n",
        "早めに着手してのんびりした年末にしましょう。\n",
        "\n",
        "〆切を超過するやむを得ない理由があれば(なるべく事前に)知らせてください。  \n",
        "またGoogle Driveにバックアップが取られる仕様上「データが消えました」という理由は認められません。\n",
        "\n",
        "以下のものに対しては、評価の対象外となります。  \n",
        "* 理由なく〆切を超過して提出されたもの\n",
        "* 盗用が疑われるもの\n",
        "\n",
        "とくに後者は、この授業だけでなく今期の全単位の取り消しや  \n",
        "懲戒となる場合がありますので注意してください。\n",
        "\n",
        "\n",
        ">**提出方法について**\n",
        "\n",
        "以下の２通りのいずれかでお願いします。\n",
        "\n",
        "1. (**推奨**) ノートブックの共有をオンにして、共有リンクを送る  \n",
        "共有方法は、ノートブックの右上の共有ボタンを押して、[リンクを取得]から共有設定を[リンクを知っている人全員]に変更し共有リンク(URL)を取得する。  \n",
        "(Gmailにログインしていないブラウザなどでそのリンクが開けるかご自身でもチェックしてください)\n",
        "\n",
        "2. ipynb形式のノートブックを保存して添付する。[ファイル]→[.ipynbをダウンロード]\n",
        " \n",
        "\n",
        "提出先は次のいずれかでお願いします\n",
        "\n",
        "* Teamsの私宛のチャット  \n",
        "* 私の授業用アカウント syoshida.cc@gmail.com (必ず大学のメール(@ccドメイン)から送ってください)  \n",
        "* CL(連絡・相談)やその他の手段\n",
        "\n",
        "レポートを受け取った場合、遅くとも2日以内に確認の返信を必ずお送りします。  \n",
        "受領連絡がない場合は、再度送ってください。\n",
        "\n",
        "> **レポートの著作権に関して**\n",
        "\n",
        "提出していただいたレポートのうち優れたものをモデルケースとして、  \n",
        "他の受講者へのフィードバックや来年度以降の授業などで使用させていただけたらと思います。\n",
        "\n",
        "* 「記名での公表可」\n",
        "* 「匿名での公表可」\n",
        "* 「公表不可」\n",
        "\n",
        "など、希望があれば冒頭の備考欄に記述してください。  \n",
        "備考欄に記載がない場合「匿名での公表」には、ご了承頂いたものと見なします。  \n",
        "\n",
        "---\n",
        "\n"
      ]
    },
    {
      "cell_type": "markdown",
      "metadata": {
        "id": "dqWC5H_1FCjL"
      },
      "source": [
        "## 問題1. 回帰分析"
      ]
    },
    {
      "cell_type": "markdown",
      "metadata": {
        "id": "yh-Gpz72Khuw"
      },
      "source": [
        "以下のような電流(x,単位A)と電圧(y,単位V)の測定データがある"
      ]
    },
    {
      "cell_type": "code",
      "metadata": {
        "id": "GMxDq2vJKubR"
      },
      "source": [
        "x = [1.0, 2.0, 3.0, 4.0, 5.0, 6.0, 7.0, 8.0, 9.0, 10.0] \n",
        "y = [0.143, 0.278, 0.413, 0.548, 0.683, 0.818, 0.953, 1.088, 1.223, 1.358] "
      ],
      "execution_count": 2,
      "outputs": []
    },
    {
      "cell_type": "markdown",
      "metadata": {
        "id": "wUcBe05yUA_Z"
      },
      "source": [
        "横軸を電流I,縦軸を電圧Vの図にすると"
      ]
    },
    {
      "cell_type": "code",
      "metadata": {
        "id": "GTHgHBC1UCLc",
        "colab": {
          "base_uri": "https://localhost:8080/",
          "height": 280
        },
        "outputId": "df4a8fc3-baec-43ea-8aa6-8579c6250394"
      },
      "source": [
        "import matplotlib.pyplot as plt\n",
        "fig = plt.figure(figsize=(10,4))#インスタンス\n",
        "ax = fig.add_subplot(111)#グラフ枠描画\n",
        "ax.set_xlabel(\"I\"); ax.set_ylabel(\"V\")#ラベルの設定\n",
        "ax.scatter(x, y, facecolor=\"none\", edgecolor=\"b\", s=50)#散布図描画\n",
        "plt.show()\n",
        "plt.close()"
      ],
      "execution_count": 5,
      "outputs": [
        {
          "output_type": "display_data",
          "data": {
            "image/png": "[encoded data removed]",
            "text/plain": [
              "<Figure size 720x288 with 1 Axes>"
            ]
          },
          "metadata": {
            "tags": [],
            "needs_background": "light"
          }
        }
      ]
    },
    {
      "cell_type": "markdown",
      "metadata": {
        "id": "LGHHvMmtUMo5"
      },
      "source": [
        "こんな感じ。"
      ]
    },
    {
      "cell_type": "markdown",
      "metadata": {
        "id": "Wy92fyndLqeg"
      },
      "source": [
        "中学校で習ったオームの法則 $V = IR$ を用いて以下の問に答えよ  \n",
        "(傾きが電気抵抗Rに相当している)  \n"
      ]
    },
    {
      "cell_type": "markdown",
      "metadata": {
        "id": "6KgghyxKFEzs"
      },
      "source": [
        "\n",
        "**A問題**  \n",
        "ノート6章を参考に、numpyの機能を用いて  \n",
        "$f(x)=ax+b$という直線で上のデータをフィット(つまり傾き$a$と切片$b$を\"最適化\")し、  \n",
        "最適な$a,b$を答えよ.  \n",
        "また、その時の$y=ax+b$の直線を上の図に加えてプロットせよ  \n",
        "\n",
        "**B問題**   \n",
        "numpyなどのライブラリは使わずに、  \n",
        "適当な初期値$a=1.0,b=0.1$からスタートして  \n",
        "$a,b$を更新しながら二乗誤差を最小化する最適な$(a,b)$の組を見つけ、  \n",
        "A問題のライブラリの与える答えと一致することを確認せよ。  \n",
        "\n",
        "**C問題**  \n",
        "ノート7章を参考に  \n",
        "* 学習の過程でのパラメータ空間(二次元平面)での$(a,b)$の振る舞い\n",
        "* 誤差関数の振る舞い\n",
        "\n",
        "など、最適化が進んでいく過程を、ノートブック内で動画として描画せよ。  \n",
        "\n",
        "\n",
        "\n",
        "\n"
      ]
    },
    {
      "cell_type": "markdown",
      "metadata": {
        "id": "EzvMp0ffO0yh"
      },
      "source": [
        "**注意とヒント**\n",
        "\n",
        "Aのヒント: 授業で用いたノートブックから類推してあてはめれば回答可能です。\n",
        "\n",
        "Bのヒント: 今の場合、最小化すべき値(目的関数)は、  \n",
        "データと直線モデル($f(x)=ax+b$)との二乗誤差の和、$\\chi^2 = \\sum^{10}_{i=1} (y_i - (ax_i+b))^2$である。\n",
        "\n",
        "一つの方針は、\n",
        "$\\chi^2$を$a$と$b$について微分した表式$\\frac{\\partial \\chi^2}{\\partial a}$,$\\frac{\\partial \\chi^2}{\\partial b}$をそれぞれ求めて、  \n",
        "その値を返す関数を作成し、勾配を使って更新していく(勾配法以外の方法でも良い)。  \n",
        "\n",
        "最終結果(最適解)を表示したりするためには、更新の際\"ベストな値\"が得られたら逐次それらを記録していけば良い。\n",
        "\n",
        "Cのヒント: 勾配法の場合、最適化が進む過程はおそらく...  \n",
        "初期に大きくaとbが修正されながら、あとは時折わずかな変更を受けるはず。  \n",
        "なので、更新の度に毎回スナップショットを取り愚直に描画すると中々計算が終わらない。  \n",
        "学習の初期をある程度真面目に描画して、後半の方は大幅に間引いてplotするのがオススメ。\n",
        "\n",
        "\n",
        "仮に乱数を使用する場合は、他の人が動かしても結果が再現されるように、  \n",
        "初めにSeedを適当な値に固定すること。**再現性が無い議論になっているものは減点**とする。\n",
        "\n",
        "> B,Cに関する補足:\n",
        "\n",
        "今の問題で、パラメータ空間$(a,b)$上での二乗誤差(の常用対数をとったもの)の振る舞いは下図の通りで、  \n",
        "最適解の周りで非常にsteepになっている(a,bの値は、答えがわかってしまうので図ではあえて隠している)。  \n",
        "\n",
        "この絵のように約419万点(2048×2048のメッシュ)での二乗誤差の値をプロットしても、  \n",
        "まだまだメッシュが荒く、実は\"最適解そのもの\"は描画出来ていない.  \n",
        "最適化の方法にもよるが、$\\log_{10}\\chi^2$は-20とか-30程度(つまり$\\chi^2 \\approx 0$)まで下げられる。\n",
        "\n",
        "この図やC問題の結果から、  \n",
        "今のような「1次元のデータがたった10点程度の単純な直線を使った回帰」ですら  \n",
        "二乗誤差の振る舞いは非自明で、局所解に時折捕まることが視覚的にもわかる。  \n",
        "(というと、最適化問題を解く難しさ・面白さが伝わるだろうか？)\n",
        "\n",
        "<img src=\"https://drive.google.com/uc?export=view&id=152U_BtYuEkRGBCiTrgbPUJ6RDowf4ttR\" width = 80%>\n"
      ]
    },
    {
      "cell_type": "markdown",
      "metadata": {
        "id": "o3tVvRE6PY0I"
      },
      "source": [
        "\n",
        "---\n",
        "\n",
        "\n",
        "**解答欄はこちら**\n",
        "\n",
        "\n",
        "\n",
        "\n",
        "\n",
        "\n",
        "・コード欄"
      ]
    },
    {
      "cell_type": "code",
      "metadata": {
        "id": "yAL1cmE5Vv13"
      },
      "source": [
        "#B\r\n"
      ],
      "execution_count": null,
      "outputs": []
    },
    {
      "cell_type": "markdown",
      "metadata": {
        "id": "lTM3PeUBOY72"
      },
      "source": [
        ""
      ]
    },
    {
      "cell_type": "code",
      "metadata": {
        "colab": {
          "base_uri": "https://localhost:8080/",
          "height": 298
        },
        "id": "fDqmXsBZHxSI",
        "outputId": "b07666e9-f0e3-439d-b1a6-523d6131a905"
      },
      "source": [
        "#Aについて\r\n",
        "# ノート6章を参考に、numpyの機能を用いて  \r\n",
        "# $f(x)=ax+b$という直線で上のデータをフィット(つまり傾き$a$と切片$b$を\"最適化\")し、  \r\n",
        "# 最適な$a,b$を答えよ.  \r\n",
        "# また、その時の$y=ax+b$の直線を上の図に加えてプロットせよ \r\n",
        "#データは上からもってくる\r\n",
        "import numpy as np\r\n",
        "p=1 #式の次数\r\n",
        "#グラフ描画用 xp はxpredictionに由来\r\n",
        "xp = np.linspace(0, 10, 500) #等差数列を生成、間隔（公差）ではなく要素数を指定 (最初、最後、要素数)を指定。それらに応じた間隔（公差）が自動的に算出　0から1までを500分割←多項式プロットを実現\r\n",
        "#print(\"this is xp\",xp)#xp→ [ 0.   0.02004008  0.04008016  0.06012024  0.08016032 ……10]\r\n",
        "\r\n",
        "\r\n",
        "#yp = np.poly1d(np.polyfit(x, y, p))(xp)#もとめたxから対応するyを算出  poly1d(式)(代入する値)\r\n",
        "#print(np.polyfit(x, y, p)) #[0.135 ,0.008]\r\n",
        "#print(np.poly1d([2,3]))#1x+2x+3にx=1を代入した結果6がでる\r\n",
        "#print(yp) #→[0.008      0.01070541 0.01341082 0.01611623 0.01882164 0.02152705……1.358]\r\n",
        "#poly1dは1次元多項式オブジェクト生\r\n",
        "#polyfitはデータのx,yの値と多項式の次元pを引数として与え、p 次の多項式でデータ (x,y) をfitしなさい\r\n",
        "print(\"最適なa,bは\", np.polyfit(x,y,p))\r\n",
        "\r\n",
        "\r\n",
        "#グラフ描画\r\n",
        "fig = plt.figure(figsize=(10,4))#グラフインスタンス\r\n",
        "ax = fig.add_subplot(111)#グラフ描画\r\n",
        "ax.set_xlabel(\"I\"); ax.set_ylabel(\"V\")#ラベルの設定\r\n",
        "# ax.scatter(x, y, facecolor=\"none\", edgecolor=\"b\", s=50)#散布図描画\r\n",
        "ax.scatter(x, y, facecolor=\"none\", edgecolor=\"b\", s=50, label=\"Data\")\r\n",
        "ax.plot(xp, yp,label=\"Graph\")\r\n",
        "ax.legend()#凡例描画\r\n",
        "plt.show()\r\n",
        "plt.close()"
      ],
      "execution_count": 7,
      "outputs": [
        {
          "output_type": "stream",
          "text": [
            "最適なa,bは [0.135 0.008]\n"
          ],
          "name": "stdout"
        },
        {
          "output_type": "display_data",
          "data": {
            "image/png": "[encoded data removed]",
            "text/plain": [
              "<Figure size 720x288 with 1 Axes>"
            ]
          },
          "metadata": {
            "tags": [],
            "needs_background": "light"
          }
        }
      ]
    },
    {
      "cell_type": "markdown",
      "metadata": {
        "id": "l0saw_76VwE6"
      },
      "source": [
        "・記述欄\n",
        "\n",
        "*ココに説明を記述*\n",
        "\n"
      ]
    },
    {
      "cell_type": "markdown",
      "metadata": {
        "id": "ynnmkD5OpELf"
      },
      "source": [
        "\n",
        "## 問題2. 乱数を用いた計算"
      ]
    },
    {
      "cell_type": "markdown",
      "metadata": {
        "id": "QJ5ckMCjeIml"
      },
      "source": [
        "**A問題**  \n",
        "ノート9章を参考に、以下のジャンケン関数を作成せよ。\n",
        "* 20%の確率でグー, 50%の確率でチョキ, 30％の確率でパーを出す\n",
        "* 60%の確率でグー, 10%の確率でチョキ, 30％の確率でパーを出す\n",
        "\n",
        "**B問題**  \n",
        "A問題で作成したジャンケン関数同士で勝負させて、勝率を記録し、  \n",
        "勝負の回数を増やしていくにつれて(10回, 100回, 1000回, 10000回,...)  \n",
        "勝率がどのように変動するか**考察せよ。**  \n",
        "\n",
        "\n",
        "\n",
        "\n"
      ]
    },
    {
      "cell_type": "markdown",
      "metadata": {
        "id": "PoDFM-v2gMxv"
      },
      "source": [
        "**C問題**  \n",
        "あなたは、後述のようなある関数$f(x)$の最小値を見つけたい。  \n",
        "$x = -4.0$からスタートして、以下の手順のような    \n",
        "ランダムウォークを活用した探索方法を実装し、最適な$x$の値を求めよ\n",
        "\n",
        "1. 現在いる点$x_{old}$から$\\sigma=0.1$の正規乱数でランダムに$x_{c}$(cはcandidateの略)を生成する\n",
        "2. ２つの点$x_{old},x_c$での値$f(x_{old}),f(x_c)$を比べ、以下のルールで候補点を\"採択\"または\"棄却\"する\n",
        "    * $f(x_{old}) \\geq f(x_{c})$なら必ず採択($x_{old}$に$x_c$を代入)する\n",
        "    * $f(x_{old}) < f(x_{c})$の場合、確率$r=\\exp( - (f(x_{c}) - f(x_{old})) )$で採択する\n",
        "    * 採択しない(棄却する)場合は、その場にとどまる \n",
        "3. 上記のプロセスを繰り返し、最も小さな$f(x)$を与える$x$の値を探索する\n",
        "\n",
        "なお、以下では便宜上関数形が与えられているが、  \n",
        "この関数の式は\"分からない\"と仮定した上で解くこととする.  \n",
        "(つまり、微分形を解析的に求めて最小値を与える$x$を求めるのはナシ)\n",
        "\n",
        "余力があれば、勾配法(とくに、学習率を固定する方式)での最適化も試して比較してみよう。  \n",
        "奇跡的に良い学習率を見つけないと、中々最適解が得られないはず"
      ]
    },
    {
      "cell_type": "code",
      "metadata": {
        "colab": {
          "base_uri": "https://localhost:8080/",
          "height": 279
        },
        "id": "ElSEUhdimZ-J",
        "outputId": "3a3b0bf8-f25b-42c6-bab5-53fbe313ba2d"
      },
      "source": [
        "import numpy as np\n",
        "import matplotlib.pyplot as plt\n",
        "\n",
        "def f_blackbox(x): #xを指定したときに初めてf(x)の値がわかると想定\n",
        "    if abs(x)>10.0: #便宜的に、定義域外で大きな値を持つ関数とする\n",
        "        return  np.exp(100)\n",
        "    else:\n",
        "        return -0.5 * np.sin(x) - 0.2 * x \n",
        "\n",
        "xplot = np.arange(-10,10,1.e-3)\n",
        "yplot = -0.5 * np.sin(xplot) - 0.2 * xplot  #関数の具体形は本当は分からない（ブラックボックス)と仮定する\n",
        "\n",
        "fig = plt.figure(figsize=(8,4))\n",
        "ax = fig.add_subplot(111)\n",
        "ax.set_xlabel(\"x\"); ax.set_ylabel(\"y\")\n",
        "ax.plot(xplot,yplot,color=\"red\",label=\"BlackBox function\",linestyle=\"dotted\")\n",
        "ax.scatter(-4,f_blackbox(-4),marker=\"o\",color=\"k\")\n",
        "ax.legend(loc=\"upper right\")\n",
        "plt.show()\n",
        "plt.close()"
      ],
      "execution_count": 8,
      "outputs": [
        {
          "output_type": "display_data",
          "data": {
            "image/png": "[encoded data removed]",
            "text/plain": [
              "<Figure size 576x288 with 1 Axes>"
            ]
          },
          "metadata": {
            "tags": [],
            "needs_background": "light"
          }
        }
      ]
    },
    {
      "cell_type": "markdown",
      "metadata": {
        "id": "OFg3BLIZmGKU"
      },
      "source": [
        "**注意とヒント**\n",
        "\n",
        "他の人が動かしても結果が再現されるように、  \n",
        "初めにSeedを適当な値に固定すること。  \n",
        "**再現性が無い議論になっているものは減点対象**とする。\n",
        "\n",
        "Aのヒント:  \n",
        "授業で用いたノートブックから類推してあてはめれば回答可能です。\n",
        "\n",
        "Bのヒント:  \n",
        "答えがどうなるかは、場合の数や確率といった数Aの知識から予め予想することができる。\n",
        "\n",
        "\n",
        "Cのヒント:  \n",
        "$x$の定義域は$[-10,10]$とする($|x|>10$で関数の値が$\\infty$になると思えば良い)  \n",
        "\n",
        "単純な勾配法で試して、局所解に捕まる体験を是非してみてほしいので、  \n",
        "求めた値自体が何桁あっているかはあまり気にしません。  \n",
        "\n",
        "上記のような方法を使った更新(実はメトロポリス法という方法になっている)だと、  \n",
        "関数の値を大きくしてしまう方向にも一定の確率で更新するために、局所的な谷から抜け出すことが出来る(かも).  \n",
        "$x$の変化の様子を作画するのも面白いですが、レポートでは必須ではありません(興味がある人はやってみよう)。\n",
        "\n",
        "なおC問題はA・B問題と直接関係がないので、C問題が不安な人はAかBも解答するのがオススメ"
      ]
    },
    {
      "cell_type": "markdown",
      "metadata": {
        "id": "H58tKFhPe6pW"
      },
      "source": [
        "\n",
        "---\n",
        "\n",
        "\n",
        "**解答欄はこちら**\n",
        "\n",
        "\n",
        "\n",
        "\n",
        "\n",
        "\n",
        "・コード欄"
      ]
    },
    {
      "cell_type": "code",
      "metadata": {
        "id": "GnV4knuhJxYW"
      },
      "source": [
        "#C問題"
      ],
      "execution_count": null,
      "outputs": []
    },
    {
      "cell_type": "code",
      "metadata": {
        "id": "et8Yf9iOpyhK"
      },
      "source": [
        "#A問題\r\n",
        "import random\r\n",
        "te=[\"グー\",\"チョキ\",\"パー\"]\r\n",
        "# random.seed(2020)\r\n",
        "\r\n",
        "\r\n",
        "\r\n",
        "# for num in range(0, 200, 1):\r\n",
        "  \r\n",
        "#   print(random.randint(0,10));#0~10までランダムで出す\r\n",
        "\r\n",
        "def DoJanken1():\r\n",
        "  rand=random.randint(0,10)\r\n",
        "  if(rand<=2):\r\n",
        "    i=0\r\n",
        "  elif(rand>=3 and rand<=8):\r\n",
        "    i=1\r\n",
        "  else:\r\n",
        "    i=2\r\n",
        "  return te[i]\r\n",
        "\r\n",
        "def DoJanken2():\r\n",
        "  rand=random.randint(0,10)\r\n",
        "  if(rand<=6):\r\n",
        "    i=0\r\n",
        "  elif(rand==7):\r\n",
        "    i=1\r\n",
        "  else:\r\n",
        "    i=2\r\n",
        "  return te[i]\r\n",
        "\r\n",
        "print(\"20%の確率でグー, 50%の確率でチョキ, 30％の確率でパーを出します。結果は「\"+DoJanken1()+\"」です。\")\r\n",
        "print(\"60%の確率でグー, 10%の確率でチョキ, 30％の確率でパーを出します。結果は「\"+DoJanken2()+\"」です。\")\r\n"
      ],
      "execution_count": null,
      "outputs": []
    },
    {
      "cell_type": "code",
      "metadata": {
        "colab": {
          "base_uri": "https://localhost:8080/"
        },
        "id": "O48Njd0-Mup5",
        "outputId": "3d8a2579-7902-433d-cfac-066900eab4e0"
      },
      "source": [
        "#B問題\r\n",
        "import random\r\n",
        "from matplotlib import pyplot as plt #グラフ描写\r\n",
        "!pip install japanize-matplotlib\r\n",
        "import japanize_matplotlib #文字化け防止\r\n",
        "te=[\"グー\",\"チョキ\",\"パー\"]\r\n",
        "patternFirst=\"20%の確率でグー, 50%の確率でチョキ, 30％の確率でパーを出す\"\r\n",
        "patternSecond=\"60%の確率でグー, 10%の確率でチョキ, 30％の確率でパーを出す\"\r\n",
        "# random.seed(2020)\r\n",
        "\r\n",
        "\r\n",
        "\r\n",
        "\r\n",
        "\r\n",
        "\r\n",
        "def DoJanken1():\r\n",
        "  rand=random.randint(0,10)\r\n",
        "  if(rand<=2):\r\n",
        "    i=0\r\n",
        "  elif(rand>=3 and rand<=8):\r\n",
        "    i=1\r\n",
        "  else:\r\n",
        "    i=2\r\n",
        "  return i\r\n",
        "\r\n",
        "def DoJanken2():\r\n",
        "  rand=random.randint(0,10)\r\n",
        "  if(rand<=6):\r\n",
        "    i=0\r\n",
        "  elif(rand==7):\r\n",
        "    i=1\r\n",
        "  else:\r\n",
        "    i=2\r\n",
        "  return i\r\n",
        "\r\n",
        "\r\n",
        "def DecesionJanken(first,second):\r\n",
        "  result=first-second\r\n",
        "  if(result==0):\r\n",
        "    #あいこ\r\n",
        "    winner=0\r\n",
        "  elif(result==-1 or result==2):\r\n",
        "    #firstの勝ち\r\n",
        "    winner=1\r\n",
        "  else:\r\n",
        "    #secondの勝ち\r\n",
        "    winner=2\r\n",
        "  return winner#勝者の番号を返す(関数名末尾の1or2)(あいこなら0を返す)\r\n",
        "\r\n",
        "def winner(countWin1,countWin2):\r\n",
        "  if(countWin1>countWin2):\r\n",
        "    nowWinner=patternFirst\r\n",
        "  elif(countWin1<countWin2):\r\n",
        "    nowWinner=patternSecond\r\n",
        "  print(\"勝者は\"+nowWinner+\"方である\")\r\n",
        "\r\n",
        "def calWinRate(countWin1,countWin2,countDraw):\r\n",
        "  return rateWin1,rateWin2\r\n",
        "print(patternFirst+\"結果は「\"+te[DoJanken1()]+\"」です。\")\r\n",
        "print(patternSecond+\"結果は「\"+te[DoJanken2()]+\"」です。\")\r\n",
        "\r\n",
        "print(\"じゃんけんの実施\")\r\n",
        "countWin1=0\r\n",
        "countWin2=0\r\n",
        "countDraw=0\r\n",
        "for count in range(0, 10000, 1):\r\n",
        "  result=DecesionJanken(DoJanken1(),DoJanken2())\r\n",
        "  if(result==1):\r\n",
        "    #firstの勝利\r\n",
        "    countWin1 +=1\r\n",
        "  elif(result==2):\r\n",
        "    #secondの勝利\r\n",
        "    countWin2 +=1\r\n",
        "  else:\r\n",
        "    #あいこ\r\n",
        "    countDraw +=1\r\n",
        "  \r\n",
        "  if(count==9):\r\n",
        "    # 10回までの結果は\r\n",
        "    print(\"10回まででfirstは\"+str(countWin1)+\"回勝ち、secondは\"+str(countWin2)+\"回勝ち、引き分けは\"+str(countDraw)+\"回発生した\")\r\n",
        "    winner(countWin1,countWin2)\r\n",
        "  elif(count==99):\r\n",
        "    #100回までの結果は\r\n",
        "    print(\"100回まででfirstは\"+str(countWin1)+\"回勝ち、secondは\"+str(countWin2)+\"回勝ち、引き分けは\"+str(countDraw)+\"回発生した\")\r\n",
        "    winner(countWin1,countWin2)\r\n",
        "  elif(count==999):\r\n",
        "    #1000回までの結果は\r\n",
        "    print(\"1000回まででfirstは\"+str(countWin1)+\"回勝ち、secondは\"+str(countWin2)+\"回勝ち、引き分けは\"+str(countDraw)+\"回発生した\")\r\n",
        "    winner(countWin1,countWin2)\r\n",
        "  elif(count==9999):\r\n",
        "    # １万回までの結果は\r\n",
        "    print(\"10000回まででfirstは\"+str(countWin1)+\"回勝ち、secondは\"+str(countWin2)+\"回勝ち、引き分けは\"+str(countDraw)+\"回発生した\")\r\n",
        "    winner(countWin1,countWin2)\r\n",
        "print(\"EOF\")"
      ],
      "execution_count": 45,
      "outputs": [
        {
          "output_type": "stream",
          "text": [
            "Requirement already satisfied: japanize-matplotlib in /usr/local/lib/python3.6/dist-packages (1.1.3)\n",
            "Requirement already satisfied: matplotlib in /usr/local/lib/python3.6/dist-packages (from japanize-matplotlib) (3.2.2)\n",
            "Requirement already satisfied: pyparsing!=2.0.4,!=2.1.2,!=2.1.6,>=2.0.1 in /usr/local/lib/python3.6/dist-packages (from matplotlib->japanize-matplotlib) (2.4.7)\n",
            "Requirement already satisfied: python-dateutil>=2.1 in /usr/local/lib/python3.6/dist-packages (from matplotlib->japanize-matplotlib) (2.8.1)\n",
            "Requirement already satisfied: numpy>=1.11 in /usr/local/lib/python3.6/dist-packages (from matplotlib->japanize-matplotlib) (1.19.4)\n",
            "Requirement already satisfied: cycler>=0.10 in /usr/local/lib/python3.6/dist-packages (from matplotlib->japanize-matplotlib) (0.10.0)\n",
            "Requirement already satisfied: kiwisolver>=1.0.1 in /usr/local/lib/python3.6/dist-packages (from matplotlib->japanize-matplotlib) (1.3.1)\n",
            "Requirement already satisfied: six>=1.5 in /usr/local/lib/python3.6/dist-packages (from python-dateutil>=2.1->matplotlib->japanize-matplotlib) (1.15.0)\n",
            "20%の確率でグー, 50%の確率でチョキ, 30％の確率でパーを出す結果は「グー」です。\n",
            "60%の確率でグー, 10%の確率でチョキ, 30％の確率でパーを出します結果は「パー」です。\n",
            "じゃんけんの実施\n",
            "10回まででfirstは1回勝ち、secondは5回勝ち、引き分けは4回発生した\n",
            "勝者は60%の確率でグー, 10%の確率でチョキ, 30％の確率でパーを出します\n",
            "100回まででfirstは24回勝ち、secondは48回勝ち、引き分けは28回発生した\n",
            "勝者は60%の確率でグー, 10%の確率でチョキ, 30％の確率でパーを出します\n",
            "1000回まででfirstは302回勝ち、secondは464回勝ち、引き分けは234回発生した\n",
            "勝者は60%の確率でグー, 10%の確率でチョキ, 30％の確率でパーを出します\n",
            "10000回まででfirstは2940回勝ち、secondは4408回勝ち、引き分けは2652回発生した\n",
            "勝者は60%の確率でグー, 10%の確率でチョキ, 30％の確率でパーを出します\n",
            "EOF\n"
          ],
          "name": "stdout"
        }
      ]
    },
    {
      "cell_type": "markdown",
      "metadata": {
        "id": "ayyxlGlFijFY"
      },
      "source": [
        "・ 記述欄\n",
        "\n",
        "randomライブラリのrandient関数を用いて1～10までの整数値をランダムで発生させ、その数値を元にif文で題意の確率に合うように分岐し、じゃんけん結果をreturnさせる関数を作り、print文内で呼び出すことで実現した。\n",
        "B問題ではじゃんけん判定に数値を利用するためにreturn内容を配列の番号に変更した。\n",
        "じゃんけんの判定は\n",
        "https://staku.designbits.jp/check-janken/\n",
        "を参考にし\n",
        "<table border>\n",
        "<tr>\n",
        "<td>first/second</td>\n",
        "<td>ぐー0</td>\n",
        "<td>ちょき1</td>\n",
        "<td>ぱー2</td>\n",
        "</tr>\n",
        "<tr>\n",
        "<td>ぐー0</td>\n",
        "<td>あいこ</td>\n",
        "<td>first勝ち(-1)</td>\n",
        "<td>second勝ち(-2)</td>\n",
        "</tr>\n",
        "<tr>\n",
        "<td>ちょき1</td>\n",
        "<td>second勝ち(1)</td>\n",
        "<td>あいこ</td>\n",
        "<td>first勝ち(-1)</td>\n",
        "</tr>\n",
        "<tr>\n",
        "<td>ぱー2</td>\n",
        "<td>first勝ち(2)</td>\n",
        "<td>second勝ち(1)</td>\n",
        "<td>あいこ</td>\n",
        "</tr>\n",
        "</table>\n",
        "()内はfirst-secondの結果を入れた\n",
        "より **-1,2のときfirstが勝ち、1,-2のときsecondが勝ち、引き分けのとき0**となることを利用した。\n",
        "試行結果より勝者は60%の確率でグー, 10%の確率でチョキ, 30％の確率でパーを出す方である。また題意の確率から\n"
      ]
    },
    {
      "cell_type": "markdown",
      "metadata": {
        "id": "Ht2ekcoiilaP"
      },
      "source": [
        "\n",
        "\n",
        "> \n",
        "\n"
      ]
    },
    {
      "cell_type": "markdown",
      "metadata": {
        "id": "uLCI_ksdw41d"
      },
      "source": [
        "## **最終課題の案について**"
      ]
    },
    {
      "cell_type": "markdown",
      "metadata": {
        "id": "7dPm9_7qFJhm"
      },
      "source": [
        "\n",
        "\n",
        "実践データサイエンスの最終課題では、  \n",
        "授業で習ってきたPythonや各種のデータの分析方法、  \n",
        "おまけのノートブックや自身の興味のある内容・手法などを駆使して、  \n",
        "* データを分析して物事の理解を深める\n",
        "* データを使って、意思決定に応用する\n",
        "* 何らかの作業を自動化する\n",
        "\n",
        "といったことを皆さんの自由な発想(+吉田のお手伝い)でやっていただこうかと思っています。\n",
        "\n",
        "以下の例にならって**現時点での大まかなプラン**を記載してください  \n",
        "もちろん途中でのテーマ変更も可能です。  \n",
        "\n",
        "最終課題の提出期になって「何にもやってない」  \n",
        "という悲劇を回避するためにも早めに相談してください。\n"
      ]
    },
    {
      "cell_type": "markdown",
      "metadata": {
        "id": "z4Vfw3d7GX3f"
      },
      "source": [
        "例:   \n",
        ">漫才コンテストの評価は、シニアの審査員の主観に依存するところが大きく、  \n",
        "採点が客観性を欠いているとの指摘もなされている。  \n",
        "そこで、来るお笑いコンテストXXXの開催中にSNSに溢れる声を取得・分析し、  \n",
        "〇〇に基づいた△△の分析により得点を算出することで、  \n",
        "独自の方法で優勝者を決定することを試みる。\n",
        "\n",
        "例の内容は書き方の参考程度にしてください(自然言語処理は結構ムズいので)。  \n",
        "その他の、より具体的な例に関しては、随時[最終課題案]として授業中や資料で紹介します。"
      ]
    },
    {
      "cell_type": "markdown",
      "metadata": {
        "id": "Bq2zXUa8GWw-"
      },
      "source": [
        "**現時点での大まかなプラン**\n",
        "\n",
        "\n",
        "\n",
        "・大学生協と宇大サイト、その他諸々スクレイプによるRSS←実行済み<br>\n",
        "・宇大の更新をスクレイプ→更新あったらLINEで通知(Slack通知は実装済み)<br>\n",
        "・自分の日記から死んだ後も日記が生成されるシステムを作る<br>\n",
        "・GIMP自動で動かして画像加工とか色取得とか<br>\n",
        "・OpenCVで月が見えたらLINEに通知<br>\n",
        "・OpenCVでバスの到着を通知<br>\n",
        "・ビックデータによるうらない<br>\n",
        "→うらないは統計学じゃね？という発想から<br>\n",
        "この日に生まれた人はこういう傾向にあると。<br>\n",
        "疑似相関をあえて利用する<br>\n",
        "\n",
        "・南極のライブから画像解析して南極の天気を表示させる<br>\n",
        "→南極の天気予報が正しいかを見る？<br>\n",
        "・OpenCVでバス判定して通知する←宇都宮のバスが時間通りに来ないので。<br>\n",
        "・COVID19関連　のAPIで実家帰省できるかを見極める<br>\n",
        "https://corona.go.jp/dashboard/<br>\n",
        "・画像認識で人と食べ物を認識し、食べ物の数から　好きな食べ物を推測する<br>\n",
        "→誕生日に欲しい物を探したり<br>\n",
        "・TellusのAPI使う<br>\n",
        "→近所の桜の見頃判定ツール<br>\n",
        "→衛星データで植生変化から見る<br>\n",
        "・C-Learning資料自動ダウンロード→自動整理<br>\n",
        "・動画自動要約<br>\n",
        "・Twitter API活用、Twitterはスクレイプできないので<br>\n",
        "・衛星情報取得サービスTellusのAPIを使ったなにか←桜の隠れ名所を見つける<br>\n",
        "・ヒエログリフ分類<br>\n",
        "・形態分析とサントリーAPIを用いてお酒の話題に自動で答えるシステム←未成年でお酒の知識がまったくないので。<br>\n",
        "・鉄道旅が好きなので駅すぱあとAPI使ってなにかする<br>\n",
        "・WikipediaAPIで調べる<br>\n",
        "・家のスマートメーダーのデータ読み取って電気の使いすぎを知らせる<br>\n",
        "・上記を組み合わせる！！できる限りスクレイピングしたくない<br>\n",
        "https://techblog.kayac.com/13_webapi_7_web.html<br>\n",
        "・e-stat利用<br>\n",
        "・Python日本語形態分析ライブラリjanomeで自分のLINEや日記から口癖を使う言葉を取得<br>\n",
        "・上記の制作物をAlexaスキルにして世間の役に立てる<br>\n",
        "・上記の制作物をChrome拡張にして世間の役に立てる<br>\n",
        "・CL上のクイズでバツになった英単語を自動でまとめる<br>\n",
        "のような形で案は沢山出てくるのですが、これだという決定案が決まっていません。\n",
        "\n",
        "\n",
        "\n"
      ]
    },
    {
      "cell_type": "markdown",
      "metadata": {
        "id": "1D9P44Fzm6A6"
      },
      "source": [
        "最終課題について (該当しないものを削除してください!!!):  \n",
        "* 個人でやるつもり\n"
      ]
    }
  ]
}